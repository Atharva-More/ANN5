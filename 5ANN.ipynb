{
 "cells": [
  {
   "cell_type": "code",
   "execution_count": 1,
   "id": "234d5158",
   "metadata": {},
   "outputs": [],
   "source": [
    "import numpy as np"
   ]
  },
  {
   "cell_type": "code",
   "execution_count": 4,
   "id": "5595ab99",
   "metadata": {},
   "outputs": [
    {
     "name": "stdout",
     "output_type": "stream",
     "text": [
      "Enter input pattern 1 (separated by spaces): 1 1 1 -1\n",
      "Enter input pattern 2 (separated by spaces): -1 -1 1 1\n",
      "output pattern for pattern 1: [ 1 -1]\n",
      "output pattern for pattern 2: [-1  1]\n"
     ]
    }
   ],
   "source": [
    "class BAM:\n",
    "    def __init__(self,pattern1,pattern2):\n",
    "        self.weights=np.dot(pattern1.T,pattern2)\n",
    "    def recall(self,input_pattern):\n",
    "        output_pattern = np.dot(input_pattern,self.weights)\n",
    "        output_pattern[output_pattern>=0]=1\n",
    "        output_pattern[output_pattern<0]=-1\n",
    "        return output_pattern\n",
    "    \n",
    "pattern1 = np.array([[1,1,1,-1],[-1,-1,1,-1]])\n",
    "pattern2 = np.array([[1,-1],[-1,1]])\n",
    "    \n",
    "bam = BAM(pattern1,pattern2)\n",
    "    \n",
    "input_pattern1 = np.array(list(map(int, input(\"Enter input pattern 1 (separated by spaces): \").split())))\n",
    "input_pattern2 = np.array(list(map(int, input(\"Enter input pattern 2 (separated by spaces): \").split())))\n",
    "    \n",
    "output1= bam.recall(input_pattern1)\n",
    "output2= bam.recall(input_pattern2)\n",
    "    \n",
    "print(\"output pattern for pattern 1:\",output1)\n",
    "print(\"output pattern for pattern 2:\",output2)"
   ]
  },
  {
   "cell_type": "code",
   "execution_count": null,
   "id": "976e8731",
   "metadata": {},
   "outputs": [],
   "source": []
  }
 ],
 "metadata": {
  "kernelspec": {
   "display_name": "Python 3 (ipykernel)",
   "language": "python",
   "name": "python3"
  },
  "language_info": {
   "codemirror_mode": {
    "name": "ipython",
    "version": 3
   },
   "file_extension": ".py",
   "mimetype": "text/x-python",
   "name": "python",
   "nbconvert_exporter": "python",
   "pygments_lexer": "ipython3",
   "version": "3.11.3"
  }
 },
 "nbformat": 4,
 "nbformat_minor": 5
}
